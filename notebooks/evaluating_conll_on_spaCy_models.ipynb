{
 "cells": [
  {
   "cell_type": "code",
   "execution_count": 12,
   "metadata": {},
   "outputs": [],
   "source": [
    "from datasets import load_dataset\n",
    "import spacy\n",
    "from seqeval.metrics import classification_report\n",
    "from spacy.tokens import DocBin"
   ]
  },
  {
   "cell_type": "code",
   "execution_count": 8,
   "metadata": {},
   "outputs": [],
   "source": [
    "conll_dataset = load_dataset(\"conll2003\", trust_remote_code=True)"
   ]
  },
  {
   "cell_type": "markdown",
   "metadata": {},
   "source": [
    "#### spaCy (en_core_web_sm)"
   ]
  },
  {
   "cell_type": "code",
   "execution_count": 10,
   "metadata": {},
   "outputs": [],
   "source": [
    "def convert_conll_to_spacy(dataset):\n",
    "    spacy_format = []\n",
    "    \n",
    "    for example in dataset:\n",
    "        words = example[\"tokens\"]\n",
    "        entities = []\n",
    "        start_idx = 0\n",
    "        \n",
    "        for word, label in zip(words, example[\"ner_tags\"]):\n",
    "            if label != 0:\n",
    "                label_text = dataset.features[\"ner_tags\"].feature.int2str(label)\n",
    "                end_idx = start_idx + len(word)\n",
    "                entities.append((start_idx, end_idx, label_text))\n",
    "            \n",
    "            start_idx += len(word) + 1  \n",
    "    \n",
    "        spacy_format.append(( \" \".join(words), {\"entities\": entities}))\n",
    "    return spacy_format\n",
    "\n",
    "train_data = convert_conll_to_spacy(conll_dataset[\"train\"])\n",
    "dev_data = convert_conll_to_spacy(conll_dataset[\"validation\"])"
   ]
  },
  {
   "cell_type": "code",
   "execution_count": 11,
   "metadata": {},
   "outputs": [
    {
     "data": {
      "text/plain": [
       "('EU rejects German call to boycott British lamb .',\n",
       " {'entities': [(0, 2, 'B-ORG'), (11, 17, 'B-MISC'), (34, 41, 'B-MISC')]})"
      ]
     },
     "execution_count": 11,
     "metadata": {},
     "output_type": "execute_result"
    }
   ],
   "source": [
    "train_data[0]"
   ]
  },
  {
   "cell_type": "code",
   "execution_count": 38,
   "metadata": {},
   "outputs": [],
   "source": [
    "nlp = spacy.blank(\"en\")\n",
    "def create_docbin(data):\n",
    "    doc_bin = DocBin()\n",
    "    for text, annotations in data:\n",
    "        doc = nlp.make_doc(text)\n",
    "        ents = []\n",
    "        for start, end, label in annotations[\"entities\"]:\n",
    "            span = doc.char_span(start, end, label=label, alignment_mode=\"contract\")\n",
    "            if span is not None:\n",
    "                ents.append(span)\n",
    "        doc.ents = ents\n",
    "        doc_bin.add(doc)\n",
    "    return doc_bin\n",
    "\n",
    "train_docbin = create_docbin(train_data)\n",
    "dev_docbin = create_docbin(dev_data)\n",
    "\n",
    "train_docbin.to_disk(\"../train.spacy\")\n",
    "dev_docbin.to_disk(\"../dev.spacy\")"
   ]
  },
  {
   "cell_type": "code",
   "execution_count": 39,
   "metadata": {},
   "outputs": [],
   "source": [
    "test_data = conll_dataset['test']"
   ]
  },
  {
   "cell_type": "code",
   "execution_count": 40,
   "metadata": {},
   "outputs": [],
   "source": [
    "test_sentences = [\" \".join(example[\"tokens\"]) for example in test_data]\n",
    "true_labels = [[test_data.features['ner_tags'].feature.int2str(tag) for tag in example[\"ner_tags\"]] for example in test_data]"
   ]
  },
  {
   "cell_type": "code",
   "execution_count": 41,
   "metadata": {},
   "outputs": [],
   "source": [
    "nlp_ner = spacy.load(r\"C:\\Users\\shiva\\OneDrive\\Desktop\\Projects\\Named Entity Recognition\\model-best\")"
   ]
  },
  {
   "cell_type": "code",
   "execution_count": 42,
   "metadata": {},
   "outputs": [],
   "source": [
    "predicted_labels = []\n",
    "\n",
    "for sentence in test_sentences:\n",
    "    doc = nlp_ner(sentence)\n",
    "    pred_tags = [\"O\"] * len(sentence.split())\n",
    "\n",
    "    for ent in doc.ents:\n",
    "        start_idx = len(sentence[:ent.start_char].split())\n",
    "        end_idx = len(sentence[:ent.end_char].split())\n",
    "        for i in range(start_idx, end_idx):\n",
    "            pred_tags[i] = ent.label_\n",
    "\n",
    "    predicted_labels.append(pred_tags)\n"
   ]
  },
  {
   "cell_type": "code",
   "execution_count": 32,
   "metadata": {},
   "outputs": [
    {
     "name": "stdout",
     "output_type": "stream",
     "text": [
      "Evaluation Report:\n",
      "              precision    recall  f1-score   support\n",
      "\n",
      "         LOC       0.82      0.86      0.84      1668\n",
      "        MISC       0.71      0.75      0.73       702\n",
      "         ORG       0.72      0.74      0.73      1661\n",
      "         PER       0.79      0.83      0.81      1617\n",
      "\n",
      "   micro avg       0.77      0.80      0.78      5648\n",
      "   macro avg       0.76      0.79      0.78      5648\n",
      "weighted avg       0.77      0.80      0.78      5648\n",
      "\n"
     ]
    }
   ],
   "source": [
    "print(\"Evaluation Report:\")\n",
    "print(classification_report(true_labels, predicted_labels))"
   ]
  },
  {
   "cell_type": "code",
   "execution_count": 43,
   "metadata": {},
   "outputs": [
    {
     "name": "stdout",
     "output_type": "stream",
     "text": [
      "Evaluation Report:\n",
      "              precision    recall  f1-score   support\n",
      "\n",
      "         LOC       0.86      0.83      0.85      1668\n",
      "        MISC       0.72      0.78      0.75       702\n",
      "         ORG       0.76      0.72      0.74      1661\n",
      "         PER       0.76      0.87      0.81      1617\n",
      "\n",
      "   micro avg       0.78      0.80      0.79      5648\n",
      "   macro avg       0.78      0.80      0.79      5648\n",
      "weighted avg       0.79      0.80      0.79      5648\n",
      "\n"
     ]
    }
   ],
   "source": [
    "print(\"Evaluation Report:\")\n",
    "print(classification_report(true_labels, predicted_labels))"
   ]
  }
 ],
 "metadata": {
  "kernelspec": {
   "display_name": ".venv",
   "language": "python",
   "name": "python3"
  },
  "language_info": {
   "codemirror_mode": {
    "name": "ipython",
    "version": 3
   },
   "file_extension": ".py",
   "mimetype": "text/x-python",
   "name": "python",
   "nbconvert_exporter": "python",
   "pygments_lexer": "ipython3",
   "version": "3.12.4"
  }
 },
 "nbformat": 4,
 "nbformat_minor": 2
}
